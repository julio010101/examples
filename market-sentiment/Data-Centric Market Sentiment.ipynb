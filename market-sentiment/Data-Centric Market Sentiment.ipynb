{
 "cells": [
  {
   "cell_type": "code",
   "execution_count": 2,
   "id": "fbab78f0-f730-44e5-b6a7-31e34cb9f7bc",
   "metadata": {},
   "outputs": [
    {
     "name": "stdout",
     "output_type": "stream",
     "text": [
      "You will momentarily be directed to your IdP and asked to authorize Pachyderm's login app on your IdP.\n",
      "\n",
      "Paste the following URL into a browser if not automatically redirected:\n",
      "\n",
      "https://hub-c0-v83fc27yxg.clusters.pachyderm.io/dex/auth?client_id=pachd&nonce=9Plo1V-xL2Tju8abJYPW0DSCT-UdYFg&redirect_uri=https%3A%2F%2Fhub-c0-v83fc27yxg.clusters.pachyderm.io%2Fauthorization-code%2Fcallback&response_type=code&scope=email+profile+groups+openid&state=QK7YOLFQ6IqaZY4Z5JspIPji9XWq5xs\n",
      "\n",
      "\n",
      "Retrieving Pachyderm token...\n"
     ]
    }
   ],
   "source": [
    "!pachctl auth login -b"
   ]
  },
  {
   "cell_type": "code",
   "execution_count": 3,
   "id": "472b68c5-2940-474c-bda9-ab6ad1bffc53",
   "metadata": {},
   "outputs": [
    {
     "name": "stdout",
     "output_type": "stream",
     "text": [
      "NAME                  CREATED    SIZE (MASTER) ACCESS LEVEL \n",
      "train_model           2 days ago ≤ 417.7MiB    [repoOwner]  Output repo for pipeline train_model.    \n",
      "visualizations        2 days ago ≤ 143.7KiB    [repoOwner]  Output repo for pipeline visualizations. \n",
      "sentiment_words       2 days ago ≤ 81.58KiB    [repoOwner]                                           \n",
      "dataset               2 days ago ≤ 298.4KiB    [repoOwner]  Output repo for pipeline dataset.        \n",
      "labeled_data          2 days ago ≤ 0B          [repoOwner]                                           \n",
      "financial_phrase_bank 2 days ago ≤ 292.6KiB    [repoOwner]                                           \n",
      "language_model        2 days ago ≤ 417.9MiB    [repoOwner]                                           \n"
     ]
    }
   ],
   "source": [
    "!pachctl list repo"
   ]
  },
  {
   "cell_type": "code",
   "execution_count": 4,
   "id": "278435ba-0756-473a-bd4a-a8fc41f7f51e",
   "metadata": {},
   "outputs": [],
   "source": [
    "!pachctl delete pipeline --all\n",
    "!pachctl delete repo --all"
   ]
  },
  {
   "cell_type": "markdown",
   "id": "1b8cc089-2167-4aef-a5d9-368cc7d154ea",
   "metadata": {},
   "source": [
    "# Data-Centric Market Sentiment Training"
   ]
  },
  {
   "cell_type": "markdown",
   "id": "0749f216-9a9e-4742-8abc-7bb41f333e85",
   "metadata": {},
   "source": [
    "<p align=\"center\">\n",
    "\t<img src='images/market_sentiment.png' width='1000' title=''>\n",
    "</p>\n",
    "\n",
    "In this example, we show a market sentiment NLP implementation in Pachyderm. In it, we use [transfer learning](https://en.wikipedia.org/wiki/Transfer_learning) to fine-tune a BERT language model to classify text for financial sentiment. It shows how to combine inputs from separate sources, incorporates data labeling, model training, and data visualization."
   ]
  },
  {
   "cell_type": "markdown",
   "id": "ae18880b-8fb3-4169-882c-13caa06681fd",
   "metadata": {},
   "source": [
    "## 0. Initial Setup\n",
    "Download the financial phrase bank and unzip it to the `data` directory.\n",
    "\n",
    "1. The Financial Phrase Bank Dataset should be [downloaded](https://www.researchgate.net/publication/251231364_FinancialPhraseBank-v10) and placed in `data/FinancialPhraseBank/`. (Due to data access permissions, this step must be done manually.)\n",
    "2. Unzip the dataset. "
   ]
  },
  {
   "cell_type": "code",
   "execution_count": 9,
   "id": "f083938c-dc60-474c-a771-f8e88f696f93",
   "metadata": {},
   "outputs": [
    {
     "name": "stdout",
     "output_type": "stream",
     "text": [
      "Archive:  data/FinancialPhraseBank-v1.0.zip\n",
      "   creating: data/FinancialPhraseBank-v1.0/\n",
      "  inflating: data/FinancialPhraseBank-v1.0/License.txt  \n",
      "   creating: data/__MACOSX/\n",
      "   creating: data/__MACOSX/FinancialPhraseBank-v1.0/\n",
      "  inflating: data/__MACOSX/FinancialPhraseBank-v1.0/._License.txt  \n",
      "  inflating: data/FinancialPhraseBank-v1.0/README.txt  \n",
      "  inflating: data/__MACOSX/FinancialPhraseBank-v1.0/._README.txt  \n",
      "  inflating: data/FinancialPhraseBank-v1.0/Sentences_50Agree.txt  \n",
      "  inflating: data/FinancialPhraseBank-v1.0/Sentences_66Agree.txt  \n",
      "  inflating: data/FinancialPhraseBank-v1.0/Sentences_75Agree.txt  \n",
      "  inflating: data/FinancialPhraseBank-v1.0/Sentences_AllAgree.txt  \n"
     ]
    }
   ],
   "source": [
    "!unzip data/FinancialPhraseBank-v1.0.zip -d data/"
   ]
  },
  {
   "cell_type": "markdown",
   "id": "80d37d72-f359-455e-b50a-0adce69a291c",
   "metadata": {},
   "source": [
    "3. Download the pre-trained BERT language model"
   ]
  },
  {
   "cell_type": "code",
   "execution_count": 11,
   "id": "896792f6-c314-4d0b-8412-fe98addcaf90",
   "metadata": {},
   "outputs": [],
   "source": [
    "!chmod +x download_model.sh"
   ]
  },
  {
   "cell_type": "code",
   "execution_count": 12,
   "id": "954a40a4-0da7-4ba6-af4d-0f99e7ce0138",
   "metadata": {},
   "outputs": [
    {
     "name": "stdout",
     "output_type": "stream",
     "text": [
      "--2021-09-21 19:31:04--  https://huggingface.co/ProsusAI/finbert/resolve/main/README.md\n",
      "Resolving huggingface.co (huggingface.co)... 107.23.77.87, 3.213.134.133, 34.195.144.223, ...\n",
      "Connecting to huggingface.co (huggingface.co)|107.23.77.87|:443... connected.\n",
      "HTTP request sent, awaiting response... 200 OK\n",
      "Length: 1475 (1.4K) [text/markdown]\n",
      "Saving to: ‘./models/finbertTCR2/README.md’\n",
      "\n",
      "README.md           100%[===================>]   1.44K  --.-KB/s    in 0s      \n",
      "\n",
      "2021-09-21 19:31:05 (239 MB/s) - ‘./models/finbertTCR2/README.md’ saved [1475/1475]\n",
      "\n",
      "--2021-09-21 19:31:05--  https://huggingface.co/ProsusAI/finbert/resolve/main/config.json\n",
      "Resolving huggingface.co (huggingface.co)... 34.200.164.230, 34.195.144.223, 3.213.134.133, ...\n",
      "Connecting to huggingface.co (huggingface.co)|34.200.164.230|:443... connected.\n",
      "HTTP request sent, awaiting response... 200 OK\n",
      "Length: 758 [application/json]\n",
      "Saving to: ‘./models/finbertTCR2/config.json’\n",
      "\n",
      "config.json         100%[===================>]     758  --.-KB/s    in 0s      \n",
      "\n",
      "2021-09-21 19:31:05 (127 MB/s) - ‘./models/finbertTCR2/config.json’ saved [758/758]\n",
      "\n",
      "--2021-09-21 19:31:05--  https://huggingface.co/ProsusAI/finbert/resolve/main/pytorch_model.bin\n",
      "Resolving huggingface.co (huggingface.co)... 107.23.77.87, 34.200.164.230, 34.195.144.223, ...\n",
      "Connecting to huggingface.co (huggingface.co)|107.23.77.87|:443... connected.\n",
      "HTTP request sent, awaiting response... 302 Found\n",
      "Location: https://cdn-lfs.huggingface.co/ProsusAI/finbert/e15a7b5738df7f17553399b6d94c6e2ff69c89245d066e8e5d183f5803a554e3 [following]\n",
      "--2021-09-21 19:31:05--  https://cdn-lfs.huggingface.co/ProsusAI/finbert/e15a7b5738df7f17553399b6d94c6e2ff69c89245d066e8e5d183f5803a554e3\n",
      "Resolving cdn-lfs.huggingface.co (cdn-lfs.huggingface.co)... 52.84.162.46, 52.84.162.9, 52.84.162.75, ...\n",
      "Connecting to cdn-lfs.huggingface.co (cdn-lfs.huggingface.co)|52.84.162.46|:443... connected.\n",
      "HTTP request sent, awaiting response... 200 OK\n",
      "Length: 437992753 (418M) [application/octet-stream]\n",
      "Saving to: ‘./models/finbertTCR2/pytorch_model.bin’\n",
      "\n",
      "pytorch_model.bin   100%[===================>] 417.70M  75.4MB/s    in 7.0s    \n",
      "\n",
      "2021-09-21 19:31:13 (59.9 MB/s) - ‘./models/finbertTCR2/pytorch_model.bin’ saved [437992753/437992753]\n",
      "\n",
      "--2021-09-21 19:31:13--  https://huggingface.co/ProsusAI/finbert/resolve/main/special_tokens_map.json\n",
      "Resolving huggingface.co (huggingface.co)... 3.213.134.133, 107.23.77.87, 34.200.164.230, ...\n",
      "Connecting to huggingface.co (huggingface.co)|3.213.134.133|:443... connected.\n",
      "HTTP request sent, awaiting response... 200 OK\n",
      "Length: 112 [application/json]\n",
      "Saving to: ‘./models/finbertTCR2/special_tokens_map.json’\n",
      "\n",
      "special_tokens_map. 100%[===================>]     112  --.-KB/s    in 0s      \n",
      "\n",
      "2021-09-21 19:31:13 (21.9 MB/s) - ‘./models/finbertTCR2/special_tokens_map.json’ saved [112/112]\n",
      "\n",
      "--2021-09-21 19:31:13--  https://huggingface.co/ProsusAI/finbert/resolve/main/tokenizer_config.json\n",
      "Resolving huggingface.co (huggingface.co)... 34.195.144.223, 3.213.134.133, 107.23.77.87, ...\n",
      "Connecting to huggingface.co (huggingface.co)|34.195.144.223|:443... connected.\n",
      "HTTP request sent, awaiting response... 200 OK\n",
      "Length: 252 [application/json]\n",
      "Saving to: ‘./models/finbertTCR2/tokenizer_config.json’\n",
      "\n",
      "tokenizer_config.js 100%[===================>]     252  --.-KB/s    in 0s      \n",
      "\n",
      "2021-09-21 19:31:13 (43.9 MB/s) - ‘./models/finbertTCR2/tokenizer_config.json’ saved [252/252]\n",
      "\n",
      "--2021-09-21 19:31:13--  https://huggingface.co/ProsusAI/finbert/resolve/main/vocab.txt\n",
      "Resolving huggingface.co (huggingface.co)... 34.200.164.230, 34.195.144.223, 3.213.134.133, ...\n",
      "Connecting to huggingface.co (huggingface.co)|34.200.164.230|:443... connected.\n",
      "HTTP request sent, awaiting response... 200 OK\n",
      "Length: 231508 (226K) [text/plain]\n",
      "Saving to: ‘./models/finbertTCR2/vocab.txt’\n",
      "\n",
      "vocab.txt           100%[===================>] 226.08K  1.11MB/s    in 0.2s    \n",
      "\n",
      "2021-09-21 19:31:14 (1.11 MB/s) - ‘./models/finbertTCR2/vocab.txt’ saved [231508/231508]\n",
      "\n"
     ]
    }
   ],
   "source": [
    "!./download_model.sh"
   ]
  },
  {
   "cell_type": "markdown",
   "id": "d3944860-8f10-4eaf-b3bf-13d3249088c7",
   "metadata": {},
   "source": [
    "## 1. Set up data repos and push data\n",
    "\n",
    "For simplicity, we'll be using the Pachyderm command line utility (CLI) to run our commands. "
   ]
  },
  {
   "cell_type": "markdown",
   "id": "079856fd-4a50-4fa7-b5f6-b6e62dade94a",
   "metadata": {},
   "source": [
    "The first thing we’ll do in pachyderm is create a data repository to hold our sentiment dataset. \n",
    "Data repositories are the way that we organize our data in Pachyderm. \n",
    "\n",
    "Data repositories are similar to Git repositories in that they store data as commits. This means that I can upload a file, and if I ever overwrite it, I can go back to the previous version. However, unlike Git and most other versioning systems based on it, Pachyderm is built specifically for file storage, meaning that it can be used to track and version text data, images, audio, models, and anything else that can be treated as a file.\n",
    "\n",
    "The 50 Agree means that I’m using the version of the dataset where there was at least 50% agreement between labelers. "
   ]
  },
  {
   "cell_type": "code",
   "execution_count": 5,
   "id": "5cf07419-0cd6-49d2-825d-583091ec4cdf",
   "metadata": {},
   "outputs": [
    {
     "name": "stdout",
     "output_type": "stream",
     "text": [
      "data/FinancialPhraseBank-v1.0/Sentences_50Agree.txt 671.36 KB / 671.36 KB  0s 0…\n",
      "\u001b[1A\u001b[Jdata/FinancialPhraseBank-v1.0/Sentences_50Agree.txt 671.36 KB / 671.36 KB  0s 0…\n",
      "\u001b[1A\u001b[Jdata/FinancialPhraseBank-v1.0/Sentences_50Agree.txt 671.36 KB / 671.36 KB  0s 0…\n",
      "\u001b[1A\u001b[Jdata/FinancialPhraseBank-v1.0/Sentences_50Agree.txt 671.36 KB / 671.36 KB  0s 0…\n"
     ]
    }
   ],
   "source": [
    "# Upload the Financial Phrase Bank data\n",
    "!pachctl create repo financial_phrase_bank\n",
    "!pachctl put file financial_phrase_bank@master:/Sentences_50Agree.txt -f data/FinancialPhraseBank-v1.0/Sentences_50Agree.txt"
   ]
  },
  {
   "cell_type": "markdown",
   "id": "78d6a901-c6ec-4859-8b50-78514b021366",
   "metadata": {},
   "source": [
    "We'll also set up a repository to hold my labeled data for later on in the demo. I’m also creating an empty commit here, which essentially is just telling pachyderm I’m not putting any data in this repo now, but I still want it to be processed. "
   ]
  },
  {
   "cell_type": "code",
   "execution_count": 6,
   "id": "73e1d2a1-e026-4d4c-836f-02532b03178f",
   "metadata": {
    "collapsed": true,
    "jupyter": {
     "outputs_hidden": true
    },
    "tags": []
   },
   "outputs": [
    {
     "name": "stdout",
     "output_type": "stream",
     "text": [
      "README.md 1.48 KB / 1.48 KB [======================================] 0s 0.00 b/s\n",
      "\u001b[1A\u001b[JREADME.md 1.48 KB / 1.48 KB [======================================] 0s 0.00 b/s\n",
      "config.json 0.00 b / 758.00 b [------------------------------------] 0s 0.00 b/s\n",
      "\u001b[2A\u001b[JREADME.md 1.48 KB / 1.48 KB [======================================] 0s 0.00 b/s\n",
      "config.json 758.00 b / 758.00 b [==================================] 0s 0.00 b/s\n",
      "\u001b[2A\u001b[JREADME.md 1.48 KB / 1.48 KB [======================================] 0s 0.00 b/s\n",
      "config.json 758.00 b / 758.00 b [==================================] 0s 0.00 b/s\n",
      "pytorch_model.bin 0.00 b / 437.99 MB [-----------------------------] 0s 0.00 b/s\n",
      "\u001b[3A\u001b[JREADME.md 1.48 KB / 1.48 KB [======================================] 0s 0.00 b/s\n",
      "config.json 758.00 b / 758.00 b [==================================] 0s 0.00 b/s\n",
      "pytorch_model.bin 2.10 MB / 437.99 MB [----------------------------] 0s 0.00 b/s\n",
      "\u001b[3A\u001b[JREADME.md 1.48 KB / 1.48 KB [======================================] 0s 0.00 b/s\n",
      "config.json 758.00 b / 758.00 b [==================================] 0s 0.00 b/s\n",
      "pytorch_model.bin 10.49 MB / 437.99 MB [>--------------------------] 0s 0.00 b/s\n",
      "\u001b[3A\u001b[JREADME.md 1.48 KB / 1.48 KB [======================================] 0s 0.00 b/s\n",
      "config.json 758.00 b / 758.00 b [==================================] 0s 0.00 b/s\n",
      "pytorch_model.bin 27.26 MB / 437.99 MB [=>-----------------------] 4s 95.02 MB/s\n",
      "\u001b[3A\u001b[JREADME.md 1.48 KB / 1.48 KB [======================================] 0s 0.00 b/s\n",
      "config.json 758.00 b / 758.00 b [==================================] 0s 0.00 b/s\n",
      "pytorch_model.bin 41.94 MB / 437.99 MB [=>----------------------] 3s 102.40 MB/s\n",
      "\u001b[3A\u001b[JREADME.md 1.48 KB / 1.48 KB [======================================] 0s 0.00 b/s\n",
      "config.json 758.00 b / 758.00 b [==================================] 0s 0.00 b/s\n",
      "pytorch_model.bin 62.91 MB / 437.99 MB [==>---------------------] 3s 122.25 MB/s\n",
      "\u001b[3A\u001b[JREADME.md 1.48 KB / 1.48 KB [======================================] 0s 0.00 b/s\n",
      "config.json 758.00 b / 758.00 b [==================================] 0s 0.00 b/s\n",
      "pytorch_model.bin 73.40 MB / 437.99 MB [===>--------------------] 3s 117.49 MB/s\n",
      "\u001b[3A\u001b[JREADME.md 1.48 KB / 1.48 KB [======================================] 0s 0.00 b/s\n",
      "config.json 758.00 b / 758.00 b [==================================] 0s 0.00 b/s\n",
      "pytorch_model.bin 92.27 MB / 437.99 MB [====>-------------------] 2s 128.16 MB/s\n",
      "\u001b[3A\u001b[JREADME.md 1.48 KB / 1.48 KB [======================================] 0s 0.00 b/s\n",
      "config.json 758.00 b / 758.00 b [==================================] 0s 0.00 b/s\n",
      "pytorch_model.bin 104.86 MB / 437.99 MB [=====>-----------------] 2s 127.75 MB/s\n",
      "\u001b[3A\u001b[JREADME.md 1.48 KB / 1.48 KB [======================================] 0s 0.00 b/s\n",
      "config.json 758.00 b / 758.00 b [==================================] 0s 0.00 b/s\n",
      "pytorch_model.bin 117.44 MB / 437.99 MB [=====>-----------------] 2s 127.40 MB/s\n",
      "\u001b[3A\u001b[JREADME.md 1.48 KB / 1.48 KB [======================================] 0s 0.00 b/s\n",
      "config.json 758.00 b / 758.00 b [==================================] 0s 0.00 b/s\n",
      "pytorch_model.bin 130.02 MB / 437.99 MB [======>----------------] 2s 127.22 MB/s\n",
      "\u001b[3A\u001b[JREADME.md 1.48 KB / 1.48 KB [======================================] 0s 0.00 b/s\n",
      "config.json 758.00 b / 758.00 b [==================================] 0s 0.00 b/s\n",
      "pytorch_model.bin 138.41 MB / 437.99 MB [======>----------------] 2s 127.04 MB/s\n",
      "\u001b[3A\u001b[JREADME.md 1.48 KB / 1.48 KB [======================================] 0s 0.00 b/s\n",
      "config.json 758.00 b / 758.00 b [==================================] 0s 0.00 b/s\n",
      "pytorch_model.bin 138.41 MB / 437.99 MB [======>----------------] 2s 127.04 MB/s\n",
      "\u001b[3A\u001b[JREADME.md 1.48 KB / 1.48 KB [======================================] 0s 0.00 b/s\n",
      "config.json 758.00 b / 758.00 b [==================================] 0s 0.00 b/s\n",
      "pytorch_model.bin 153.09 MB / 437.99 MB [=======>---------------] 2s 107.42 MB/s\n",
      "\u001b[3A\u001b[JREADME.md 1.48 KB / 1.48 KB [======================================] 0s 0.00 b/s\n",
      "config.json 758.00 b / 758.00 b [==================================] 0s 0.00 b/s\n",
      "pytorch_model.bin 165.68 MB / 437.99 MB [========>--------------] 2s 113.36 MB/s\n",
      "\u001b[3A\u001b[JREADME.md 1.48 KB / 1.48 KB [======================================] 0s 0.00 b/s\n",
      "config.json 758.00 b / 758.00 b [==================================] 0s 0.00 b/s\n",
      "pytorch_model.bin 184.55 MB / 437.99 MB [=========>-------------] 2s 124.60 MB/s\n",
      "\u001b[3A\u001b[JREADME.md 1.48 KB / 1.48 KB [======================================] 0s 0.00 b/s\n",
      "config.json 758.00 b / 758.00 b [==================================] 0s 0.00 b/s\n",
      "pytorch_model.bin 197.13 MB / 437.99 MB [=========>-------------] 1s 125.20 MB/s\n",
      "\u001b[3A\u001b[JREADME.md 1.48 KB / 1.48 KB [======================================] 0s 0.00 b/s\n",
      "config.json 758.00 b / 758.00 b [==================================] 0s 0.00 b/s\n",
      "pytorch_model.bin 213.91 MB / 437.99 MB [==========>------------] 1s 134.31 MB/s\n",
      "\u001b[3A\u001b[JREADME.md 1.48 KB / 1.48 KB [======================================] 0s 0.00 b/s\n",
      "config.json 758.00 b / 758.00 b [==================================] 0s 0.00 b/s\n",
      "pytorch_model.bin 228.59 MB / 437.99 MB [===========>-----------] 1s 137.32 MB/s\n",
      "\u001b[3A\u001b[JREADME.md 1.48 KB / 1.48 KB [======================================] 0s 0.00 b/s\n",
      "config.json 758.00 b / 758.00 b [==================================] 0s 0.00 b/s\n",
      "pytorch_model.bin 243.27 MB / 437.99 MB [============>----------] 1s 134.79 MB/s\n",
      "\u001b[3A\u001b[JREADME.md 1.48 KB / 1.48 KB [======================================] 0s 0.00 b/s\n",
      "config.json 758.00 b / 758.00 b [==================================] 0s 0.00 b/s\n",
      "pytorch_model.bin 253.76 MB / 437.99 MB [============>----------] 1s 131.62 MB/s\n",
      "\u001b[3A\u001b[JREADME.md 1.48 KB / 1.48 KB [======================================] 0s 0.00 b/s\n",
      "config.json 758.00 b / 758.00 b [==================================] 0s 0.00 b/s\n",
      "pytorch_model.bin 268.44 MB / 437.99 MB [=============>---------] 1s 131.76 MB/s\n",
      "\u001b[3A\u001b[JREADME.md 1.48 KB / 1.48 KB [======================================] 0s 0.00 b/s\n",
      "config.json 758.00 b / 758.00 b [==================================] 0s 0.00 b/s\n",
      "pytorch_model.bin 272.63 MB / 437.99 MB [=============>---------] 1s 131.37 MB/s\n",
      "\u001b[3A\u001b[JREADME.md 1.48 KB / 1.48 KB [======================================] 0s 0.00 b/s\n",
      "config.json 758.00 b / 758.00 b [==================================] 0s 0.00 b/s\n",
      "pytorch_model.bin 272.63 MB / 437.99 MB [=============>---------] 1s 131.37 MB/s\n",
      "\u001b[3A\u001b[JREADME.md 1.48 KB / 1.48 KB [======================================] 0s 0.00 b/s\n",
      "config.json 758.00 b / 758.00 b [==================================] 0s 0.00 b/s\n",
      "pytorch_model.bin 272.63 MB / 437.99 MB [=============>---------] 1s 131.37 MB/s\n",
      "\u001b[3A\u001b[JREADME.md 1.48 KB / 1.48 KB [======================================] 0s 0.00 b/s\n",
      "config.json 758.00 b / 758.00 b [==================================] 0s 0.00 b/s\n",
      "pytorch_model.bin 285.21 MB / 437.99 MB [===============>--------] 1s 89.78 MB/s\n",
      "\u001b[3A\u001b[JREADME.md 1.48 KB / 1.48 KB [======================================] 0s 0.00 b/s\n",
      "config.json 758.00 b / 758.00 b [==================================] 0s 0.00 b/s\n",
      "pytorch_model.bin 308.28 MB / 437.99 MB [===============>-------] 1s 110.96 MB/s\n",
      "\u001b[3A\u001b[JREADME.md 1.48 KB / 1.48 KB [======================================] 0s 0.00 b/s\n",
      "config.json 758.00 b / 758.00 b [==================================] 0s 0.00 b/s\n",
      "pytorch_model.bin 322.96 MB / 437.99 MB [================>------] 1s 117.77 MB/s\n",
      "\u001b[3A\u001b[JREADME.md 1.48 KB / 1.48 KB [======================================] 0s 0.00 b/s\n",
      "config.json 758.00 b / 758.00 b [==================================] 0s 0.00 b/s\n",
      "pytorch_model.bin 335.54 MB / 437.99 MB [=================>-----] 0s 119.78 MB/s\n",
      "\u001b[3A\u001b[JREADME.md 1.48 KB / 1.48 KB [======================================] 0s 0.00 b/s\n",
      "config.json 758.00 b / 758.00 b [==================================] 0s 0.00 b/s\n",
      "pytorch_model.bin 348.13 MB / 437.99 MB [=================>-----] 0s 120.84 MB/s\n",
      "\u001b[3A\u001b[JREADME.md 1.48 KB / 1.48 KB [======================================] 0s 0.00 b/s\n",
      "config.json 758.00 b / 758.00 b [==================================] 0s 0.00 b/s\n",
      "pytorch_model.bin 360.71 MB / 437.99 MB [==================>----] 0s 121.71 MB/s\n",
      "\u001b[3A\u001b[JREADME.md 1.48 KB / 1.48 KB [======================================] 0s 0.00 b/s\n",
      "config.json 758.00 b / 758.00 b [==================================] 0s 0.00 b/s\n",
      "pytorch_model.bin 373.29 MB / 437.99 MB [===================>---] 0s 122.44 MB/s\n",
      "\u001b[3A\u001b[JREADME.md 1.48 KB / 1.48 KB [======================================] 0s 0.00 b/s\n",
      "config.json 758.00 b / 758.00 b [==================================] 0s 0.00 b/s\n",
      "pytorch_model.bin 385.88 MB / 437.99 MB [===================>---] 0s 123.04 MB/s\n",
      "\u001b[3A\u001b[JREADME.md 1.48 KB / 1.48 KB [======================================] 0s 0.00 b/s\n",
      "config.json 758.00 b / 758.00 b [==================================] 0s 0.00 b/s\n",
      "pytorch_model.bin 398.46 MB / 437.99 MB [====================>--] 0s 123.54 MB/s\n",
      "\u001b[3A\u001b[JREADME.md 1.48 KB / 1.48 KB [======================================] 0s 0.00 b/s\n",
      "config.json 758.00 b / 758.00 b [==================================] 0s 0.00 b/s\n",
      "pytorch_model.bin 411.04 MB / 437.99 MB [=====================>-] 0s 124.02 MB/s\n",
      "\u001b[3A\u001b[JREADME.md 1.48 KB / 1.48 KB [======================================] 0s 0.00 b/s\n",
      "config.json 758.00 b / 758.00 b [==================================] 0s 0.00 b/s\n",
      "pytorch_model.bin 423.62 MB / 437.99 MB [=====================>-] 0s 124.32 MB/s\n",
      "\u001b[3A\u001b[JREADME.md 1.48 KB / 1.48 KB [======================================] 0s 0.00 b/s\n",
      "config.json 758.00 b / 758.00 b [==================================] 0s 0.00 b/s\n",
      "pytorch_model.bin 436.21 MB / 437.99 MB [=======================] 0s 124.62 MB/s\n",
      "\u001b[3A\u001b[JREADME.md 1.48 KB / 1.48 KB [======================================] 0s 0.00 b/s\n",
      "config.json 758.00 b / 758.00 b [==================================] 0s 0.00 b/s\n",
      "pytorch_model.bin 437.99 MB / 437.99 MB [=======================] 0s 124.38 MB/s\n",
      "\u001b[3A\u001b[JREADME.md 1.48 KB / 1.48 KB [======================================] 0s 0.00 b/s\n",
      "config.json 758.00 b / 758.00 b [==================================] 0s 0.00 b/s\n",
      "pytorch_model.bin 437.99 MB / 437.99 MB [=======================] 0s 124.38 MB/s\n",
      "special_tokens_map.json 0.00 b / 112.00 b [------------------------] 0s 0.00 b/s\n",
      "\u001b[4A\u001b[JREADME.md 1.48 KB / 1.48 KB [======================================] 0s 0.00 b/s\n",
      "config.json 758.00 b / 758.00 b [==================================] 0s 0.00 b/s\n",
      "pytorch_model.bin 437.99 MB / 437.99 MB [=======================] 0s 124.38 MB/s\n",
      "special_tokens_map.json 112.00 b / 112.00 b [======================] 0s 0.00 b/s\n",
      "tokenizer_config.json 0.00 b / 252.00 b [--------------------------] 0s 0.00 b/s\n",
      "\u001b[5A\u001b[JREADME.md 1.48 KB / 1.48 KB [======================================] 0s 0.00 b/s\n",
      "config.json 758.00 b / 758.00 b [==================================] 0s 0.00 b/s\n",
      "pytorch_model.bin 437.99 MB / 437.99 MB [=======================] 0s 124.38 MB/s\n",
      "special_tokens_map.json 112.00 b / 112.00 b [======================] 0s 0.00 b/s\n",
      "tokenizer_config.json 0.00 b / 252.00 b [--------------------------] 0s 0.00 b/s\n",
      "\u001b[5A\u001b[JREADME.md 1.48 KB / 1.48 KB [======================================] 0s 0.00 b/s\n",
      "config.json 758.00 b / 758.00 b [==================================] 0s 0.00 b/s\n",
      "pytorch_model.bin 437.99 MB / 437.99 MB [=======================] 0s 124.38 MB/s\n",
      "special_tokens_map.json 112.00 b / 112.00 b [======================] 0s 0.00 b/s\n",
      "tokenizer_config.json 252.00 b / 252.00 b [========================] 0s 0.00 b/s\n",
      "\u001b[5A\u001b[JREADME.md 1.48 KB / 1.48 KB [======================================] 0s 0.00 b/s\n",
      "config.json 758.00 b / 758.00 b [==================================] 0s 0.00 b/s\n",
      "pytorch_model.bin 437.99 MB / 437.99 MB [=======================] 0s 124.38 MB/s\n",
      "special_tokens_map.json 112.00 b / 112.00 b [======================] 0s 0.00 b/s\n",
      "tokenizer_config.json 252.00 b / 252.00 b [========================] 0s 0.00 b/s\n",
      "vocab.txt 0.00 b / 231.51 KB [-------------------------------------] 0s 0.00 b/s\n",
      "\u001b[6A\u001b[JREADME.md 1.48 KB / 1.48 KB [======================================] 0s 0.00 b/s\n",
      "config.json 758.00 b / 758.00 b [==================================] 0s 0.00 b/s\n",
      "pytorch_model.bin 437.99 MB / 437.99 MB [=======================] 0s 124.38 MB/s\n",
      "special_tokens_map.json 112.00 b / 112.00 b [======================] 0s 0.00 b/s\n",
      "tokenizer_config.json 252.00 b / 252.00 b [========================] 0s 0.00 b/s\n",
      "vocab.txt 231.51 KB / 231.51 KB [==================================] 0s 0.00 b/s\n",
      "\u001b[6A\u001b[JREADME.md 1.48 KB / 1.48 KB [======================================] 0s 0.00 b/s\n",
      "config.json 758.00 b / 758.00 b [==================================] 0s 0.00 b/s\n",
      "pytorch_model.bin 437.99 MB / 437.99 MB [=======================] 0s 124.38 MB/s\n",
      "special_tokens_map.json 112.00 b / 112.00 b [======================] 0s 0.00 b/s\n",
      "tokenizer_config.json 252.00 b / 252.00 b [========================] 0s 0.00 b/s\n",
      "vocab.txt 231.51 KB / 231.51 KB [==================================] 0s 0.00 b/s\n",
      "\u001b[6A\u001b[JREADME.md 1.48 KB / 1.48 KB [======================================] 0s 0.00 b/s\n",
      "config.json 758.00 b / 758.00 b [==================================] 0s 0.00 b/s\n",
      "pytorch_model.bin 437.99 MB / 437.99 MB [=======================] 0s 124.38 MB/s\n",
      "special_tokens_map.json 112.00 b / 112.00 b [======================] 0s 0.00 b/s\n",
      "tokenizer_config.json 252.00 b / 252.00 b [========================] 0s 0.00 b/s\n",
      "vocab.txt 231.51 KB / 231.51 KB [==================================] 0s 0.00 b/s\n",
      "\u001b[6A\u001b[JREADME.md 1.48 KB / 1.48 KB [======================================] 0s 0.00 b/s\n",
      "config.json 758.00 b / 758.00 b [==================================] 0s 0.00 b/s\n",
      "pytorch_model.bin 437.99 MB / 437.99 MB [=======================] 0s 124.38 MB/s\n",
      "special_tokens_map.json 112.00 b / 112.00 b [======================] 0s 0.00 b/s\n",
      "tokenizer_config.json 252.00 b / 252.00 b [========================] 0s 0.00 b/s\n",
      "vocab.txt 231.51 KB / 231.51 KB [==================================] 0s 0.00 b/s\n",
      "\u001b[6A\u001b[JREADME.md 1.48 KB / 1.48 KB [======================================] 0s 0.00 b/s\n",
      "config.json 758.00 b / 758.00 b [==================================] 0s 0.00 b/s\n",
      "pytorch_model.bin 437.99 MB / 437.99 MB [=======================] 0s 124.38 MB/s\n",
      "special_tokens_map.json 112.00 b / 112.00 b [======================] 0s 0.00 b/s\n",
      "tokenizer_config.json 252.00 b / 252.00 b [========================] 0s 0.00 b/s\n",
      "vocab.txt 231.51 KB / 231.51 KB [==================================] 0s 0.00 b/s\n",
      "\u001b[6A\u001b[JREADME.md 1.48 KB / 1.48 KB [======================================] 0s 0.00 b/s\n",
      "config.json 758.00 b / 758.00 b [==================================] 0s 0.00 b/s\n",
      "pytorch_model.bin 437.99 MB / 437.99 MB [=======================] 0s 124.38 MB/s\n",
      "special_tokens_map.json 112.00 b / 112.00 b [======================] 0s 0.00 b/s\n",
      "tokenizer_config.json 252.00 b / 252.00 b [========================] 0s 0.00 b/s\n",
      "vocab.txt 231.51 KB / 231.51 KB [==================================] 0s 0.00 b/s\n",
      "\u001b[6A\u001b[JREADME.md 1.48 KB / 1.48 KB [======================================] 0s 0.00 b/s\n",
      "config.json 758.00 b / 758.00 b [==================================] 0s 0.00 b/s\n",
      "pytorch_model.bin 437.99 MB / 437.99 MB [=======================] 0s 124.38 MB/s\n",
      "special_tokens_map.json 112.00 b / 112.00 b [======================] 0s 0.00 b/s\n",
      "tokenizer_config.json 252.00 b / 252.00 b [========================] 0s 0.00 b/s\n",
      "vocab.txt 231.51 KB / 231.51 KB [==================================] 0s 0.00 b/s\n",
      "\u001b[6A\u001b[JREADME.md 1.48 KB / 1.48 KB [======================================] 0s 0.00 b/s\n",
      "config.json 758.00 b / 758.00 b [==================================] 0s 0.00 b/s\n",
      "pytorch_model.bin 437.99 MB / 437.99 MB [=======================] 0s 124.38 MB/s\n",
      "special_tokens_map.json 112.00 b / 112.00 b [======================] 0s 0.00 b/s\n",
      "tokenizer_config.json 252.00 b / 252.00 b [========================] 0s 0.00 b/s\n",
      "vocab.txt 231.51 KB / 231.51 KB [==================================] 0s 0.00 b/s\n",
      "\u001b[6A\u001b[JREADME.md 1.48 KB / 1.48 KB [======================================] 0s 0.00 b/s\n",
      "config.json 758.00 b / 758.00 b [==================================] 0s 0.00 b/s\n",
      "pytorch_model.bin 437.99 MB / 437.99 MB [=======================] 0s 124.38 MB/s\n",
      "special_tokens_map.json 112.00 b / 112.00 b [======================] 0s 0.00 b/s\n",
      "tokenizer_config.json 252.00 b / 252.00 b [========================] 0s 0.00 b/s\n",
      "vocab.txt 231.51 KB / 231.51 KB [==================================] 0s 0.00 b/s\n",
      "\u001b[6A\u001b[JREADME.md 1.48 KB / 1.48 KB [======================================] 0s 0.00 b/s\n",
      "config.json 758.00 b / 758.00 b [==================================] 0s 0.00 b/s\n",
      "pytorch_model.bin 437.99 MB / 437.99 MB [=======================] 0s 124.38 MB/s\n",
      "special_tokens_map.json 112.00 b / 112.00 b [======================] 0s 0.00 b/s\n",
      "tokenizer_config.json 252.00 b / 252.00 b [========================] 0s 0.00 b/s\n",
      "vocab.txt 231.51 KB / 231.51 KB [==================================] 0s 0.00 b/s\n",
      "\u001b[6A\u001b[JREADME.md 1.48 KB / 1.48 KB [======================================] 0s 0.00 b/s\n",
      "config.json 758.00 b / 758.00 b [==================================] 0s 0.00 b/s\n",
      "pytorch_model.bin 437.99 MB / 437.99 MB [=======================] 0s 124.38 MB/s\n",
      "special_tokens_map.json 112.00 b / 112.00 b [======================] 0s 0.00 b/s\n",
      "tokenizer_config.json 252.00 b / 252.00 b [========================] 0s 0.00 b/s\n",
      "vocab.txt 231.51 KB / 231.51 KB [==================================] 0s 0.00 b/s\n",
      "\u001b[6A\u001b[JREADME.md 1.48 KB / 1.48 KB [======================================] 0s 0.00 b/s\n",
      "config.json 758.00 b / 758.00 b [==================================] 0s 0.00 b/s\n",
      "pytorch_model.bin 437.99 MB / 437.99 MB [=======================] 0s 124.38 MB/s\n",
      "special_tokens_map.json 112.00 b / 112.00 b [======================] 0s 0.00 b/s\n",
      "tokenizer_config.json 252.00 b / 252.00 b [========================] 0s 0.00 b/s\n",
      "vocab.txt 231.51 KB / 231.51 KB [==================================] 0s 0.00 b/s\n",
      "\u001b[6A\u001b[JREADME.md 1.48 KB / 1.48 KB [======================================] 0s 0.00 b/s\n",
      "config.json 758.00 b / 758.00 b [==================================] 0s 0.00 b/s\n",
      "pytorch_model.bin 437.99 MB / 437.99 MB [=======================] 0s 124.38 MB/s\n",
      "special_tokens_map.json 112.00 b / 112.00 b [======================] 0s 0.00 b/s\n",
      "tokenizer_config.json 252.00 b / 252.00 b [========================] 0s 0.00 b/s\n",
      "vocab.txt 231.51 KB / 231.51 KB [==================================] 0s 0.00 b/s\n",
      "\u001b[6A\u001b[JREADME.md 1.48 KB / 1.48 KB [======================================] 0s 0.00 b/s\n",
      "config.json 758.00 b / 758.00 b [==================================] 0s 0.00 b/s\n",
      "pytorch_model.bin 437.99 MB / 437.99 MB [=======================] 0s 124.38 MB/s\n",
      "special_tokens_map.json 112.00 b / 112.00 b [======================] 0s 0.00 b/s\n",
      "tokenizer_config.json 252.00 b / 252.00 b [========================] 0s 0.00 b/s\n",
      "vocab.txt 231.51 KB / 231.51 KB [==================================] 0s 0.00 b/s\n",
      "\u001b[6A\u001b[JREADME.md 1.48 KB / 1.48 KB [======================================] 0s 0.00 b/s\n",
      "config.json 758.00 b / 758.00 b [==================================] 0s 0.00 b/s\n",
      "pytorch_model.bin 437.99 MB / 437.99 MB [=======================] 0s 124.38 MB/s\n",
      "special_tokens_map.json 112.00 b / 112.00 b [======================] 0s 0.00 b/s\n",
      "tokenizer_config.json 252.00 b / 252.00 b [========================] 0s 0.00 b/s\n",
      "vocab.txt 231.51 KB / 231.51 KB [==================================] 0s 0.00 b/s\n",
      "\u001b[6A\u001b[JREADME.md 1.48 KB / 1.48 KB [======================================] 0s 0.00 b/s\n",
      "config.json 758.00 b / 758.00 b [==================================] 0s 0.00 b/s\n",
      "pytorch_model.bin 437.99 MB / 437.99 MB [=======================] 0s 124.38 MB/s\n",
      "special_tokens_map.json 112.00 b / 112.00 b [======================] 0s 0.00 b/s\n",
      "tokenizer_config.json 252.00 b / 252.00 b [========================] 0s 0.00 b/s\n",
      "vocab.txt 231.51 KB / 231.51 KB [==================================] 0s 0.00 b/s\n",
      "\u001b[6A\u001b[JREADME.md 1.48 KB / 1.48 KB [======================================] 0s 0.00 b/s\n",
      "config.json 758.00 b / 758.00 b [==================================] 0s 0.00 b/s\n",
      "pytorch_model.bin 437.99 MB / 437.99 MB [=======================] 0s 124.38 MB/s\n",
      "special_tokens_map.json 112.00 b / 112.00 b [======================] 0s 0.00 b/s\n",
      "tokenizer_config.json 252.00 b / 252.00 b [========================] 0s 0.00 b/s\n",
      "vocab.txt 231.51 KB / 231.51 KB [==================================] 0s 0.00 b/s\n",
      "\u001b[6A\u001b[JREADME.md 1.48 KB / 1.48 KB [======================================] 0s 0.00 b/s\n",
      "config.json 758.00 b / 758.00 b [==================================] 0s 0.00 b/s\n",
      "pytorch_model.bin 437.99 MB / 437.99 MB [=======================] 0s 124.38 MB/s\n",
      "special_tokens_map.json 112.00 b / 112.00 b [======================] 0s 0.00 b/s\n",
      "tokenizer_config.json 252.00 b / 252.00 b [========================] 0s 0.00 b/s\n",
      "vocab.txt 231.51 KB / 231.51 KB [==================================] 0s 0.00 b/s\n",
      "\u001b[6A\u001b[JREADME.md 1.48 KB / 1.48 KB [======================================] 0s 0.00 b/s\n",
      "config.json 758.00 b / 758.00 b [==================================] 0s 0.00 b/s\n",
      "pytorch_model.bin 437.99 MB / 437.99 MB [=======================] 0s 124.38 MB/s\n",
      "special_tokens_map.json 112.00 b / 112.00 b [======================] 0s 0.00 b/s\n",
      "tokenizer_config.json 252.00 b / 252.00 b [========================] 0s 0.00 b/s\n",
      "vocab.txt 231.51 KB / 231.51 KB [==================================] 0s 0.00 b/s\n",
      "\u001b[6A\u001b[JREADME.md 1.48 KB / 1.48 KB [======================================] 0s 0.00 b/s\n",
      "config.json 758.00 b / 758.00 b [==================================] 0s 0.00 b/s\n",
      "pytorch_model.bin 437.99 MB / 437.99 MB [=======================] 0s 124.38 MB/s\n",
      "special_tokens_map.json 112.00 b / 112.00 b [======================] 0s 0.00 b/s\n",
      "tokenizer_config.json 252.00 b / 252.00 b [========================] 0s 0.00 b/s\n",
      "vocab.txt 231.51 KB / 231.51 KB [==================================] 0s 0.00 b/s\n",
      "\u001b[6A\u001b[JREADME.md 1.48 KB / 1.48 KB [======================================] 0s 0.00 b/s\n",
      "config.json 758.00 b / 758.00 b [==================================] 0s 0.00 b/s\n",
      "pytorch_model.bin 437.99 MB / 437.99 MB [=======================] 0s 124.38 MB/s\n",
      "special_tokens_map.json 112.00 b / 112.00 b [======================] 0s 0.00 b/s\n",
      "tokenizer_config.json 252.00 b / 252.00 b [========================] 0s 0.00 b/s\n",
      "vocab.txt 231.51 KB / 231.51 KB [==================================] 0s 0.00 b/s\n",
      "\u001b[6A\u001b[JREADME.md 1.48 KB / 1.48 KB [======================================] 0s 0.00 b/s\n",
      "config.json 758.00 b / 758.00 b [==================================] 0s 0.00 b/s\n",
      "pytorch_model.bin 437.99 MB / 437.99 MB [=======================] 0s 124.38 MB/s\n",
      "special_tokens_map.json 112.00 b / 112.00 b [======================] 0s 0.00 b/s\n",
      "tokenizer_config.json 252.00 b / 252.00 b [========================] 0s 0.00 b/s\n",
      "vocab.txt 231.51 KB / 231.51 KB [==================================] 0s 0.00 b/s\n",
      "\u001b[6A\u001b[JREADME.md 1.48 KB / 1.48 KB [======================================] 0s 0.00 b/s\n",
      "config.json 758.00 b / 758.00 b [==================================] 0s 0.00 b/s\n",
      "pytorch_model.bin 437.99 MB / 437.99 MB [=======================] 0s 124.38 MB/s\n",
      "special_tokens_map.json 112.00 b / 112.00 b [======================] 0s 0.00 b/s\n",
      "tokenizer_config.json 252.00 b / 252.00 b [========================] 0s 0.00 b/s\n",
      "vocab.txt 231.51 KB / 231.51 KB [==================================] 0s 0.00 b/s\n",
      "\u001b[6A\u001b[JREADME.md 1.48 KB / 1.48 KB [======================================] 0s 0.00 b/s\n",
      "config.json 758.00 b / 758.00 b [==================================] 0s 0.00 b/s\n",
      "pytorch_model.bin 437.99 MB / 437.99 MB [=======================] 0s 124.38 MB/s\n",
      "special_tokens_map.json 112.00 b / 112.00 b [======================] 0s 0.00 b/s\n",
      "tokenizer_config.json 252.00 b / 252.00 b [========================] 0s 0.00 b/s\n",
      "vocab.txt 231.51 KB / 231.51 KB [==================================] 0s 0.00 b/s\n",
      "\u001b[6A\u001b[JREADME.md 1.48 KB / 1.48 KB [======================================] 0s 0.00 b/s\n",
      "config.json 758.00 b / 758.00 b [==================================] 0s 0.00 b/s\n",
      "pytorch_model.bin 437.99 MB / 437.99 MB [=======================] 0s 124.38 MB/s\n",
      "special_tokens_map.json 112.00 b / 112.00 b [======================] 0s 0.00 b/s\n",
      "tokenizer_config.json 252.00 b / 252.00 b [========================] 0s 0.00 b/s\n",
      "vocab.txt 231.51 KB / 231.51 KB [==================================] 0s 0.00 b/s\n",
      "\u001b[6A\u001b[JREADME.md 1.48 KB / 1.48 KB [======================================] 0s 0.00 b/s\n",
      "config.json 758.00 b / 758.00 b [==================================] 0s 0.00 b/s\n",
      "pytorch_model.bin 437.99 MB / 437.99 MB [=======================] 0s 124.38 MB/s\n",
      "special_tokens_map.json 112.00 b / 112.00 b [======================] 0s 0.00 b/s\n",
      "tokenizer_config.json 252.00 b / 252.00 b [========================] 0s 0.00 b/s\n",
      "vocab.txt 231.51 KB / 231.51 KB [==================================] 0s 0.00 b/s\n",
      "\u001b[6A\u001b[JREADME.md 1.48 KB / 1.48 KB [======================================] 0s 0.00 b/s\n",
      "config.json 758.00 b / 758.00 b [==================================] 0s 0.00 b/s\n",
      "pytorch_model.bin 437.99 MB / 437.99 MB [=======================] 0s 124.38 MB/s\n",
      "special_tokens_map.json 112.00 b / 112.00 b [======================] 0s 0.00 b/s\n",
      "tokenizer_config.json 252.00 b / 252.00 b [========================] 0s 0.00 b/s\n",
      "vocab.txt 231.51 KB / 231.51 KB [==================================] 0s 0.00 b/s\n",
      "\u001b[6A\u001b[JREADME.md 1.48 KB / 1.48 KB [======================================] 0s 0.00 b/s\n",
      "config.json 758.00 b / 758.00 b [==================================] 0s 0.00 b/s\n",
      "pytorch_model.bin 437.99 MB / 437.99 MB [=======================] 0s 124.38 MB/s\n",
      "special_tokens_map.json 112.00 b / 112.00 b [======================] 0s 0.00 b/s\n",
      "tokenizer_config.json 252.00 b / 252.00 b [========================] 0s 0.00 b/s\n",
      "vocab.txt 231.51 KB / 231.51 KB [==================================] 0s 0.00 b/s\n",
      "\u001b[6A\u001b[JREADME.md 1.48 KB / 1.48 KB [======================================] 0s 0.00 b/s\n",
      "config.json 758.00 b / 758.00 b [==================================] 0s 0.00 b/s\n",
      "pytorch_model.bin 437.99 MB / 437.99 MB [=======================] 0s 124.38 MB/s\n",
      "special_tokens_map.json 112.00 b / 112.00 b [======================] 0s 0.00 b/s\n",
      "tokenizer_config.json 252.00 b / 252.00 b [========================] 0s 0.00 b/s\n",
      "vocab.txt 231.51 KB / 231.51 KB [==================================] 0s 0.00 b/s\n",
      "\u001b[6A\u001b[JREADME.md 1.48 KB / 1.48 KB [======================================] 0s 0.00 b/s\n",
      "config.json 758.00 b / 758.00 b [==================================] 0s 0.00 b/s\n",
      "pytorch_model.bin 437.99 MB / 437.99 MB [=======================] 0s 124.38 MB/s\n",
      "special_tokens_map.json 112.00 b / 112.00 b [======================] 0s 0.00 b/s\n",
      "tokenizer_config.json 252.00 b / 252.00 b [========================] 0s 0.00 b/s\n",
      "vocab.txt 231.51 KB / 231.51 KB [==================================] 0s 0.00 b/s\n",
      "\u001b[6A\u001b[JREADME.md 1.48 KB / 1.48 KB [======================================] 0s 0.00 b/s\n",
      "config.json 758.00 b / 758.00 b [==================================] 0s 0.00 b/s\n",
      "pytorch_model.bin 437.99 MB / 437.99 MB [=======================] 0s 124.38 MB/s\n",
      "special_tokens_map.json 112.00 b / 112.00 b [======================] 0s 0.00 b/s\n",
      "tokenizer_config.json 252.00 b / 252.00 b [========================] 0s 0.00 b/s\n",
      "vocab.txt 231.51 KB / 231.51 KB [==================================] 0s 0.00 b/s\n",
      "\u001b[6A\u001b[JREADME.md 1.48 KB / 1.48 KB [======================================] 0s 0.00 b/s\n",
      "config.json 758.00 b / 758.00 b [==================================] 0s 0.00 b/s\n",
      "pytorch_model.bin 437.99 MB / 437.99 MB [=======================] 0s 124.38 MB/s\n",
      "special_tokens_map.json 112.00 b / 112.00 b [======================] 0s 0.00 b/s\n",
      "tokenizer_config.json 252.00 b / 252.00 b [========================] 0s 0.00 b/s\n",
      "vocab.txt 231.51 KB / 231.51 KB [==================================] 0s 0.00 b/s\n",
      "\u001b[6A\u001b[JREADME.md 1.48 KB / 1.48 KB [======================================] 0s 0.00 b/s\n",
      "config.json 758.00 b / 758.00 b [==================================] 0s 0.00 b/s\n",
      "pytorch_model.bin 437.99 MB / 437.99 MB [=======================] 0s 124.38 MB/s\n",
      "special_tokens_map.json 112.00 b / 112.00 b [======================] 0s 0.00 b/s\n",
      "tokenizer_config.json 252.00 b / 252.00 b [========================] 0s 0.00 b/s\n",
      "vocab.txt 231.51 KB / 231.51 KB [==================================] 0s 0.00 b/s\n",
      "\u001b[6A\u001b[JREADME.md 1.48 KB / 1.48 KB [======================================] 0s 0.00 b/s\n",
      "config.json 758.00 b / 758.00 b [==================================] 0s 0.00 b/s\n",
      "pytorch_model.bin 437.99 MB / 437.99 MB [=======================] 0s 124.38 MB/s\n",
      "special_tokens_map.json 112.00 b / 112.00 b [======================] 0s 0.00 b/s\n",
      "tokenizer_config.json 252.00 b / 252.00 b [========================] 0s 0.00 b/s\n",
      "vocab.txt 231.51 KB / 231.51 KB [==================================] 0s 0.00 b/s\n",
      "\u001b[6A\u001b[JREADME.md 1.48 KB / 1.48 KB [======================================] 0s 0.00 b/s\n",
      "config.json 758.00 b / 758.00 b [==================================] 0s 0.00 b/s\n",
      "pytorch_model.bin 437.99 MB / 437.99 MB [=======================] 0s 124.38 MB/s\n",
      "special_tokens_map.json 112.00 b / 112.00 b [======================] 0s 0.00 b/s\n",
      "tokenizer_config.json 252.00 b / 252.00 b [========================] 0s 0.00 b/s\n",
      "vocab.txt 231.51 KB / 231.51 KB [==================================] 0s 0.00 b/s\n",
      "\u001b[6A\u001b[JREADME.md 1.48 KB / 1.48 KB [======================================] 0s 0.00 b/s\n",
      "config.json 758.00 b / 758.00 b [==================================] 0s 0.00 b/s\n",
      "pytorch_model.bin 437.99 MB / 437.99 MB [=======================] 0s 124.38 MB/s\n",
      "special_tokens_map.json 112.00 b / 112.00 b [======================] 0s 0.00 b/s\n",
      "tokenizer_config.json 252.00 b / 252.00 b [========================] 0s 0.00 b/s\n",
      "vocab.txt 231.51 KB / 231.51 KB [==================================] 0s 0.00 b/s\n",
      "\u001b[6A\u001b[JREADME.md 1.48 KB / 1.48 KB [======================================] 0s 0.00 b/s\n",
      "config.json 758.00 b / 758.00 b [==================================] 0s 0.00 b/s\n",
      "pytorch_model.bin 437.99 MB / 437.99 MB [=======================] 0s 124.38 MB/s\n",
      "special_tokens_map.json 112.00 b / 112.00 b [======================] 0s 0.00 b/s\n",
      "tokenizer_config.json 252.00 b / 252.00 b [========================] 0s 0.00 b/s\n",
      "vocab.txt 231.51 KB / 231.51 KB [==================================] 0s 0.00 b/s\n",
      "\u001b[6A\u001b[JREADME.md 1.48 KB / 1.48 KB [======================================] 0s 0.00 b/s\n",
      "config.json 758.00 b / 758.00 b [==================================] 0s 0.00 b/s\n",
      "pytorch_model.bin 437.99 MB / 437.99 MB [=======================] 0s 124.38 MB/s\n",
      "special_tokens_map.json 112.00 b / 112.00 b [======================] 0s 0.00 b/s\n",
      "tokenizer_config.json 252.00 b / 252.00 b [========================] 0s 0.00 b/s\n",
      "vocab.txt 231.51 KB / 231.51 KB [==================================] 0s 0.00 b/s\n"
     ]
    }
   ],
   "source": [
    "# Upload the language model to Pachyderm\n",
    "!pachctl create repo language_model\n",
    "!cd models/finbertTCR2/; pachctl put file -r language_model@master -f ./; cd ../../"
   ]
  },
  {
   "cell_type": "code",
   "execution_count": 8,
   "id": "c71119a4-32c8-4601-a4b3-153aae0caed6",
   "metadata": {},
   "outputs": [
    {
     "name": "stdout",
     "output_type": "stream",
     "text": [
      "e493e1e8c2c443f392092b66e7f2807f\n"
     ]
    }
   ],
   "source": [
    "# Set up labeled_data repo for labeling production data later\n",
    "!pachctl create repo labeled_data\n",
    "!pachctl start commit labeled_data@master; pachctl finish commit labeled_data@master"
   ]
  },
  {
   "cell_type": "markdown",
   "id": "fa73ebab-5d1c-4007-8fb8-259101fea519",
   "metadata": {},
   "source": [
    "Note: Here we create a commit in the `labeled_data` repo with an empty file as a place holder. This allows our pipeline to run without having to have labeled production data."
   ]
  },
  {
   "cell_type": "markdown",
   "id": "9f85e568-238e-4638-84ad-55bf139b84ee",
   "metadata": {},
   "source": [
    "## 2. Deploy Pachyderm Pipelines "
   ]
  },
  {
   "cell_type": "markdown",
   "id": "25fcb82e-685b-465b-9e23-b102b07a36a6",
   "metadata": {},
   "source": [
    "Now I can deploy my dataset creation and model training pipeline using `pachctl create pipeline`. This pipeline will combine my two data sources, create training, testing, and validation sets, and then write them to its output repo. This repository is versioned as well, which means that I can revert back to any dataset version that was created by my pipeline. "
   ]
  },
  {
   "cell_type": "code",
   "execution_count": 9,
   "id": "88298f65-9cd0-4739-bdbb-a77ff1ea7e36",
   "metadata": {},
   "outputs": [],
   "source": [
    "# Deploy the dataset creation pipeline\n",
    "!pachctl create pipeline -f pachyderm/dataset.json\n",
    "\n",
    "# Deploy the training pipeline\n",
    "!pachctl create pipeline -f pachyderm/train_model.json"
   ]
  },
  {
   "cell_type": "markdown",
   "id": "9d1af6b2-cf12-4f2d-9f9c-4a13877ead1a",
   "metadata": {},
   "source": [
    "Let's look at the pipeline to see what’s actually happening under the hood. "
   ]
  },
  {
   "cell_type": "code",
   "execution_count": 10,
   "id": "ed13545c-8643-4718-bbc9-d43d608f5c22",
   "metadata": {},
   "outputs": [
    {
     "name": "stdout",
     "output_type": "stream",
     "text": [
      "{\n",
      "  \"pipeline\": {\n",
      "    \"name\": \"dataset\"\n",
      "  },\n",
      "  \"description\": \"Create an FPB formatted dataset for labeled text data.\",\n",
      "  \"input\": {\n",
      "    \"join\": [\n",
      "      {\n",
      "          \"pfs\": {\n",
      "              \"glob\": \"/\",\n",
      "              \"repo\": \"labeled_data\",\n",
      "              \"outer_join\": true\n",
      "          }\n",
      "      },\n",
      "      {\n",
      "          \"pfs\": {\n",
      "              \"glob\": \"/\",\n",
      "              \"repo\": \"financial_phrase_bank\",\n",
      "              \"outer_join\": true\n",
      "          }\n",
      "      }\n",
      "  ]\n",
      "  },\n",
      "  \"transform\": {\n",
      "    \"cmd\": [\n",
      "      \"python\", \"completions-dataset.py\",\n",
      "      \"--completions-dir\", \"/pfs/labeled_data/\",\n",
      "      \"--fpb-dataset\", \"/pfs/financial_phrase_bank/\",\n",
      "      \"--output-dir\", \"/pfs/out/\"\n",
      "    ],\n",
      "    \"image\": \"jimmywhitaker/market_sentiment:dev0.25\"\n",
      "  }\n",
      "}"
     ]
    }
   ],
   "source": [
    "!cat pachyderm/dataset.json"
   ]
  },
  {
   "cell_type": "markdown",
   "id": "4b953ead-5547-40e0-ad88-94e6d75acc47",
   "metadata": {},
   "source": [
    "We won't go through all of the details of this pipeline, but the key componets are: \n",
    "* Input  - data repositories that will be mapping the pipeline when it runs. They will available through the file system at `/pfs/`\n",
    "* Transform - shows the Docker image and the python command that will process our data. \n",
    "\n",
    "The output will be stored in `/pfs/out` which will version all the files there automatically when the container is finished. So if I overwrite my dataset, then I can still access it by viewing a previous commit. \n",
    "\n",
    "Notice also, that I just created my pipelines, but I never had to tell them to run. All pipelines in Pachyderm are data driven, meaning that changes in the data repositories are what control the processing flow. \n",
    "\n",
    "This means that I can start experimenting with different versions of datasets or pipelines and never lose anything! \n",
    "\n",
    "**Note**: \n",
    "\n",
    "[Glob patterns](https://docs.pachyderm.com/latest/concepts/pipeline-concepts/datum/glob-pattern/) on our inputs are also very powerful. You can tell a pipeline how to split your data up so that you can parallelize your pipeline with no extra code, which is very useful in data cleaning and preprocessing. "
   ]
  },
  {
   "cell_type": "markdown",
   "id": "4d70a1c9-eeba-4bd3-9940-826beca7f05f",
   "metadata": {},
   "source": [
    "## 3. (Optional) Deploy Data Visualization Pipeline"
   ]
  },
  {
   "cell_type": "code",
   "execution_count": 11,
   "id": "74a78e04-4c28-47e7-a57c-d0919bff5f4a",
   "metadata": {},
   "outputs": [
    {
     "name": "stdout",
     "output_type": "stream",
     "text": [
      "resources/LoughranMcDonald_SentimentWordLists_2018.csv 83.53 KB / 83.53 KB  0s …\n",
      "\u001b[1A\u001b[Jresources/LoughranMcDonald_SentimentWordLists_2018.csv 83.53 KB / 83.53 KB  0s …\n",
      "\u001b[1A\u001b[Jresources/LoughranMcDonald_SentimentWordLists_2018.csv 83.53 KB / 83.53 KB  0s …\n",
      "\u001b[1A\u001b[Jresources/LoughranMcDonald_SentimentWordLists_2018.csv 83.53 KB / 83.53 KB  0s …\n",
      "\u001b[1A\u001b[Jresources/LoughranMcDonald_SentimentWordLists_2018.csv 83.53 KB / 83.53 KB  0s …\n",
      "\u001b[1A\u001b[Jresources/LoughranMcDonald_SentimentWordLists_2018.csv 83.53 KB / 83.53 KB  0s …\n",
      "\u001b[1A\u001b[Jresources/LoughranMcDonald_SentimentWordLists_2018.csv 83.53 KB / 83.53 KB  0s …\n",
      "\u001b[1A\u001b[Jresources/LoughranMcDonald_SentimentWordLists_2018.csv 83.53 KB / 83.53 KB  0s …\n",
      "\u001b[1A\u001b[Jresources/LoughranMcDonald_SentimentWordLists_2018.csv 83.53 KB / 83.53 KB  0s …\n"
     ]
    }
   ],
   "source": [
    "# Use a sentiment word list to visualize the current dataset\n",
    "!pachctl create repo sentiment_words\n",
    "!pachctl put file sentiment_words@master:/LoughranMcDonald_SentimentWordLists_2018.csv -f resources/LoughranMcDonald_SentimentWordLists_2018.csv\n",
    "!pachctl create pipeline -f pachyderm/visualizations.json"
   ]
  },
  {
   "cell_type": "markdown",
   "id": "49e4ad1f-a0fe-449b-97be-93ae5bec5f53",
   "metadata": {},
   "source": [
    "## 4. Update Our Dataset (Data-Driven Pipelines)"
   ]
  },
  {
   "cell_type": "markdown",
   "id": "974b7e2e-909a-499a-b7e1-0c4ea5534196",
   "metadata": {},
   "source": [
    "Say I wanted to change the version of the Financial Phrase Bank. \n",
    "\n",
    "I originally uploaded the one where 50% of the labelers agreed on the prediction, but maybe that’s resulting in a low model accuracy. Let’s change that to one where all labelers agree. "
   ]
  },
  {
   "cell_type": "markdown",
   "id": "4f876bbb-9754-4a88-b949-64390ee8042f",
   "metadata": {},
   "source": [
    "First, we'll tag the version of data that was used in this training job as `v1`. \n",
    "\n",
    "Note: Pachyderm will track all versions that are created, but this will make it easier to refer to this branch later on."
   ]
  },
  {
   "cell_type": "code",
   "execution_count": 12,
   "id": "0e523270-e7b9-4ffa-961b-e66458d7651e",
   "metadata": {},
   "outputs": [],
   "source": [
    "!pachctl create branch financial_phrase_bank@v1 --head master"
   ]
  },
  {
   "cell_type": "code",
   "execution_count": 13,
   "id": "6577c1a7-a11a-4384-ba51-6e07ad3ce8c2",
   "metadata": {},
   "outputs": [
    {
     "name": "stdout",
     "output_type": "stream",
     "text": [
      "REPO                  BRANCH COMMIT                           FINISHED      SIZE     ORIGIN DESCRIPTION\n",
      "financial_phrase_bank master 37ecb36189bb4817a65aa45405eac122 4 minutes ago 655.6KiB USER    \n",
      "NAME                   TYPE SIZE     \n",
      "/Sentences_50Agree.txt file 655.6KiB \n"
     ]
    }
   ],
   "source": [
    "!pachctl list commit financial_phrase_bank@v1\n",
    "!pachctl list file financial_phrase_bank@v1"
   ]
  },
  {
   "cell_type": "code",
   "execution_count": 14,
   "id": "310c6b6f-8837-49ed-91df-bb3bfe558765",
   "metadata": {},
   "outputs": [
    {
     "name": "stdout",
     "output_type": "stream",
     "text": [
      "a3b82817b3c24633ad9b7a273e618fe4\n",
      "data/FinancialPhraseBank-v1.0/Sentences_AllAgree.txt 299.64 KB / 299.64 KB  0s …\n",
      "\u001b[1A\u001b[Jdata/FinancialPhraseBank-v1.0/Sentences_AllAgree.txt 299.64 KB / 299.64 KB  0s …\n",
      "\u001b[1A\u001b[Jdata/FinancialPhraseBank-v1.0/Sentences_AllAgree.txt 299.64 KB / 299.64 KB  0s …\n"
     ]
    }
   ],
   "source": [
    "# Modify the version of Financial Phrase Bank dataset used\n",
    "!pachctl start commit financial_phrase_bank@master\n",
    "!pachctl delete file financial_phrase_bank@master:/Sentences_50Agree.txt\n",
    "!pachctl put file financial_phrase_bank@master:/Sentences_AllAgree.txt -f data/FinancialPhraseBank-v1.0/Sentences_AllAgree.txt\n",
    "!pachctl finish commit financial_phrase_bank@master"
   ]
  },
  {
   "cell_type": "code",
   "execution_count": 18,
   "id": "ed22fb22-d50f-4557-9aa0-7b6aad64fe18",
   "metadata": {},
   "outputs": [
    {
     "name": "stdout",
     "output_type": "stream",
     "text": [
      "REPO                  BRANCH COMMIT                           FINISHED      SIZE     ORIGIN DESCRIPTION\n",
      "financial_phrase_bank master 37ecb36189bb4817a65aa45405eac122 5 minutes ago 655.6KiB USER    \n",
      "NAME                   TYPE SIZE     \n",
      "/Sentences_50Agree.txt file 655.6KiB \n"
     ]
    }
   ],
   "source": [
    "!pachctl list commit financial_phrase_bank@v1\n",
    "!pachctl list file financial_phrase_bank@v1"
   ]
  },
  {
   "cell_type": "code",
   "execution_count": 17,
   "id": "a0fa7ed0-f784-4202-a3bd-800093103ed9",
   "metadata": {},
   "outputs": [
    {
     "name": "stdout",
     "output_type": "stream",
     "text": [
      "REPO                  BRANCH COMMIT                           FINISHED       SIZE     ORIGIN DESCRIPTION\n",
      "financial_phrase_bank master a3b82817b3c24633ad9b7a273e618fe4 34 seconds ago 292.6KiB USER    \n",
      "financial_phrase_bank master 37ecb36189bb4817a65aa45405eac122 5 minutes ago  655.6KiB USER    \n",
      "NAME                    TYPE SIZE     \n",
      "/Sentences_AllAgree.txt file 292.6KiB \n"
     ]
    }
   ],
   "source": [
    "!pachctl list commit financial_phrase_bank@master\n",
    "!pachctl list file financial_phrase_bank@master"
   ]
  },
  {
   "cell_type": "markdown",
   "id": "2a626498-e0aa-47c1-befa-8c0be150de6b",
   "metadata": {},
   "source": [
    "Now this is cool: I don’t have to re-run my pipelines. Pachyderm recognizes the changes to the pipeline’s input, and it automatically kicks off my new training job. "
   ]
  },
  {
   "cell_type": "code",
   "execution_count": 19,
   "id": "1772ba9a-49a2-409d-88e8-cdaedce67a5d",
   "metadata": {},
   "outputs": [],
   "source": [
    "# Version our new dataset\n",
    "!pachctl create branch financial_phrase_bank@v2 --head master"
   ]
  },
  {
   "cell_type": "markdown",
   "id": "483d351a-fc5d-49e4-afc8-5656910aa908",
   "metadata": {},
   "source": [
    "This gives you iron-clad reproducibility and lineage for anything that is put into pachyderm. Ensuring that you never lose anything and know how everything is connected. "
   ]
  },
  {
   "cell_type": "code",
   "execution_count": 28,
   "id": "599e37e7-bff8-4ad4-9b09-f5cab6607040",
   "metadata": {},
   "outputs": [
    {
     "name": "stdout",
     "output_type": "stream",
     "text": [
      "PIPELINE    ID                               STARTED        DURATION       RESTART PROGRESS  DL       UL       STATE   \n",
      "train_model a3b82817b3c24633ad9b7a273e618fe4 12 minutes ago About a minute 0       1 + 0 / 1 418.2MiB 417.7MiB \u001b[32msuccess\u001b[0m \n",
      "train_model 42e4ec6252c64a55b049c6e45eb99a59 15 minutes ago 2 minutes      0       1 + 0 / 1 418.6MiB 417.7MiB \u001b[32msuccess\u001b[0m \n"
     ]
    }
   ],
   "source": [
    "!pachctl list job --pipeline=train_model"
   ]
  },
  {
   "cell_type": "markdown",
   "id": "d4e9088d-6e4a-4dc0-ace3-b4b2cfb193a2",
   "metadata": {},
   "source": [
    "## 5. Add Labeled Production Data"
   ]
  },
  {
   "cell_type": "markdown",
   "id": "8027f246-a4d4-4ac9-9693-13a6c2ba9932",
   "metadata": {},
   "source": [
    "First we'll create a data repositor that will hold all of our raw data that comes from production. \n",
    "\n",
    "We will connect our labeling tool to this repo and write our labeled data to the `labeled_data` repo. "
   ]
  },
  {
   "cell_type": "code",
   "execution_count": 30,
   "id": "53fbaff4-99c0-44ce-a6d3-5fadbca8f180",
   "metadata": {},
   "outputs": [
    {
     "name": "stdout",
     "output_type": "stream",
     "text": [
      "data/round1/example1.json 623.00 b / 623.00 b [====================] 0s 0.00 b/s\n",
      "\u001b[1A\u001b[Jdata/round1/example1.json 623.00 b / 623.00 b [====================] 0s 0.00 b/s\n",
      "\u001b[1A\u001b[Jdata/round1/example1.json 623.00 b / 623.00 b [====================] 0s 0.00 b/s\n",
      "\u001b[1A\u001b[Jdata/round1/example1.json 623.00 b / 623.00 b [====================] 0s 0.00 b/s\n",
      "\u001b[1A\u001b[Jdata/round1/example1.json 623.00 b / 623.00 b [====================] 0s 0.00 b/s\n",
      "\u001b[1A\u001b[Jdata/round1/example1.json 623.00 b / 623.00 b [====================] 0s 0.00 b/s\n",
      "\u001b[1A\u001b[Jdata/round1/example1.json 623.00 b / 623.00 b [====================] 0s 0.00 b/s\n",
      "\u001b[1A\u001b[Jdata/round1/example1.json 623.00 b / 623.00 b [====================] 0s 0.00 b/s\n"
     ]
    }
   ],
   "source": [
    "!pachctl create repo raw_data\n",
    "!pachctl put file raw_data@master:/example1.json -f data/round1/example1.json"
   ]
  },
  {
   "cell_type": "markdown",
   "id": "938b2577-e6de-4154-bb8d-e0574b1cb5a2",
   "metadata": {},
   "source": [
    "Run the [Label Studio Integration](https://github.com/pachyderm/examples/tree/master/label-studio) to connect a labeling envorinment with data versioned in Pachyderm. \n",
    "\n",
    "<p align=\"center\">\n",
    "\t<img src='images/label_studio_screenshot.png' width='1000' title=''>\n",
    "</p>\n",
    "\n",
    "As soon as we label an example, it will automatically kick off a retraining of our model. \n",
    "\n",
    "\n",
    "Alternatively, if running this notebook without Label Studio, you can place the data directly in the labeled data repository, by uncommenting and running the following cell. "
   ]
  },
  {
   "cell_type": "code",
   "execution_count": null,
   "id": "002f1476-8d20-406d-b0fe-8923244d3c84",
   "metadata": {},
   "outputs": [],
   "source": [
    "#!pachctl put file labeled_data@master:/example1_labeled.json -f data/round1/example1_labeled.json"
   ]
  }
 ],
 "metadata": {
  "kernelspec": {
   "display_name": "Python 3",
   "language": "python",
   "name": "python3"
  },
  "language_info": {
   "codemirror_mode": {
    "name": "ipython",
    "version": 3
   },
   "file_extension": ".py",
   "mimetype": "text/x-python",
   "name": "python",
   "nbconvert_exporter": "python",
   "pygments_lexer": "ipython3",
   "version": "3.8.8"
  }
 },
 "nbformat": 4,
 "nbformat_minor": 5
}
