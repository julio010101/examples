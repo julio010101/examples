{
 "cells": [
  {
   "cell_type": "markdown",
   "id": "99d156e8-59e8-4b2e-abee-77e296f5e06f",
   "metadata": {},
   "source": [
    "# Mounting Pachyderm Data Repos\n",
    "\n",
    "Creating and debuggin Pachyderm pipelines can sometimes be inefficient. Mounting Pachyderm data repositories is a good way to improve your development speed in Notebooks (or even in your local environment). \n",
    "\n",
    "In this notebook, we'll show you how to make your development process much more efficient by simulating your Pipeline's data environment in Pachyderm Notebooks."
   ]
  },
  {
   "cell_type": "markdown",
   "id": "0b2eb40a-0fe8-41ab-b345-ac618d5f38a4",
   "metadata": {},
   "source": [
    "## Example Setup"
   ]
  },
  {
   "cell_type": "markdown",
   "id": "be4055d1-4c9e-41b5-93bf-694baf2ba010",
   "metadata": {},
   "source": [
    "First let's create a repo and add a file to it."
   ]
  },
  {
   "cell_type": "code",
   "execution_count": 2,
   "id": "9e2c52b7-6e06-42f4-929f-653159c89a0a",
   "metadata": {},
   "outputs": [],
   "source": [
    "!pachctl create repo data"
   ]
  },
  {
   "cell_type": "code",
   "execution_count": 3,
   "id": "a1be14e2-3839-4a0f-b3ae-88384c660fe6",
   "metadata": {},
   "outputs": [
    {
     "name": "stdout",
     "output_type": "stream",
     "text": [
      "examples/housing-prices/data/housing-simplified-1.csv 2.54 KB / 2.54 KB  0s 0.0…\n",
      "\u001b[1A\u001b[Jexamples/housing-prices/data/housing-simplified-1.csv 2.54 KB / 2.54 KB  0s 0.0…\n",
      "\u001b[1A\u001b[Jexamples/housing-prices/data/housing-simplified-1.csv 2.54 KB / 2.54 KB  0s 0.0…\n",
      "\u001b[1A\u001b[Jexamples/housing-prices/data/housing-simplified-1.csv 2.54 KB / 2.54 KB  0s 0.0…\n",
      "\u001b[1A\u001b[Jexamples/housing-prices/data/housing-simplified-1.csv 2.54 KB / 2.54 KB  0s 0.0…\n",
      "\u001b[1A\u001b[Jexamples/housing-prices/data/housing-simplified-1.csv 2.54 KB / 2.54 KB  0s 0.0…\n",
      "\u001b[1A\u001b[Jexamples/housing-prices/data/housing-simplified-1.csv 2.54 KB / 2.54 KB  0s 0.0…\n",
      "\u001b[1A\u001b[Jexamples/housing-prices/data/housing-simplified-1.csv 2.54 KB / 2.54 KB  0s 0.0…\n"
     ]
    }
   ],
   "source": [
    "!pachctl put file data@master -f examples/housing-prices/data/housing-simplified-1.csv"
   ]
  },
  {
   "cell_type": "code",
   "execution_count": 4,
   "id": "17976555-ad52-47a8-a4c5-86870ab96366",
   "metadata": {},
   "outputs": [
    {
     "name": "stdout",
     "output_type": "stream",
     "text": [
      "NAME                      TYPE SIZE     \n",
      "/housing-simplified-1.csv file 2.482KiB \n"
     ]
    }
   ],
   "source": [
    "!pachctl list file data@master"
   ]
  },
  {
   "cell_type": "markdown",
   "id": "0522e25e-22a6-45a6-9c42-021d45c37174",
   "metadata": {},
   "source": [
    "Next, let's create a local directory, `/pfs/`, to mount our Pachyderm data. We can mount our data to any directory, but we choose to mount it in `/pfs/` to simulate what Pachyderm does in Pipelines."
   ]
  },
  {
   "cell_type": "code",
   "execution_count": 5,
   "id": "e4439eb5-5a96-4450-ab9e-3d70c1a37987",
   "metadata": {},
   "outputs": [],
   "source": [
    "!sudo mkdir /pfs\n",
    "!sudo chown -R $USER /pfs"
   ]
  },
  {
   "cell_type": "markdown",
   "id": "81d5b224-f936-4e49-9736-c38e6adebce1",
   "metadata": {},
   "source": [
    "## Mount Pachyderm Data"
   ]
  },
  {
   "cell_type": "markdown",
   "id": "0fc4780a-4af7-463d-84b3-76a8f6ef2c79",
   "metadata": {},
   "source": [
    "Now we will mount our `data` repo with the `pachctl mount` command which will perform a fuse mount to the file system."
   ]
  },
  {
   "cell_type": "markdown",
   "id": "77cccffd-345b-44ba-8842-efe0ce5bfcf2",
   "metadata": {},
   "source": [
    "This command is a long-running process (similar to a server). You should run it in a separate terminal, so you can continue to work in this notebook. \n",
    "\n",
    "```bash\n",
    "pachctl mount -r data@master /pfs/\n",
    "```\n",
    "\n",
    "**Note: If you want to mount more than one data repo at a time, you can modify the command above to: \n",
    "\n",
    "```bash\n",
    "pachctl mount -r data@master -r <data_repo_2>@<branch> /pfs/\n",
    "```\n",
    "\n",
    "For more information, see the [fuse mount section](https://docs.pachyderm.com/latest/how-tos/basic-data-operations/export-data-out-pachyderm/mount-repo-to-local-computer/) of the docs. "
   ]
  },
  {
   "cell_type": "code",
   "execution_count": 1,
   "id": "42853403-7af6-4c07-a6e7-1eb9d1df22bf",
   "metadata": {},
   "outputs": [
    {
     "name": "stdout",
     "output_type": "stream",
     "text": [
      "Reading package lists... Done\n",
      "Building dependency tree       \n",
      "Reading state information... Done\n",
      "The following NEW packages will be installed:\n",
      "  tree\n",
      "0 upgraded, 1 newly installed, 0 to remove and 64 not upgraded.\n",
      "Need to get 43.0 kB of archives.\n",
      "After this operation, 115 kB of additional disk space will be used.\n",
      "Get:1 http://archive.ubuntu.com/ubuntu focal/universe amd64 tree amd64 1.8.0-1 [43.0 kB]\n",
      "Fetched 43.0 kB in 0s (94.7 kB/s)\n",
      "debconf: delaying package configuration, since apt-utils is not installed\n",
      "Selecting previously unselected package tree.\n",
      "(Reading database ... 61913 files and directories currently installed.)\n",
      "Preparing to unpack .../tree_1.8.0-1_amd64.deb ...\n",
      "Unpacking tree (1.8.0-1) ...\n",
      "Setting up tree (1.8.0-1) ...\n"
     ]
    }
   ],
   "source": [
    "# If not already installed, install the tree command to view the directory structure\n",
    "!sudo apt-get install tree -y"
   ]
  },
  {
   "cell_type": "markdown",
   "id": "82e0cf92-1f25-4067-8182-8d4a97b4af7f",
   "metadata": {},
   "source": [
    "Using the tree command, we can see that the `data` repository is mounted at `/pfs/data/`. "
   ]
  },
  {
   "cell_type": "code",
   "execution_count": 7,
   "id": "7d667448-6f58-4cda-a01e-5a3bf3af66df",
   "metadata": {},
   "outputs": [
    {
     "name": "stdout",
     "output_type": "stream",
     "text": [
      "\u001b[01;34m/pfs/\u001b[00m\n",
      "└── \u001b[01;34mdata\u001b[00m\n",
      "    └── housing-simplified-1.csv\n",
      "\n",
      "1 directory, 1 file\n"
     ]
    }
   ],
   "source": [
    "!tree /pfs/"
   ]
  },
  {
   "cell_type": "markdown",
   "id": "9a7d5837-0c02-4ca8-be4e-edc05807715b",
   "metadata": {},
   "source": [
    "This means that we have just simulated our pipeline's data environment! This is the data that our code will see if it is deployed as a pipeline with `data@master` as an input (and glob pattern `/`). \n",
    "\n",
    "Now we can experiment with our data in Pachyderm Notebooks before deploying a pipeline. "
   ]
  },
  {
   "cell_type": "code",
   "execution_count": 8,
   "id": "a1f29986-8aad-4ba1-aebd-987a20df66d1",
   "metadata": {},
   "outputs": [],
   "source": [
    "import pandas as pd"
   ]
  },
  {
   "cell_type": "code",
   "execution_count": 9,
   "id": "8a4a24d0-0a61-4877-861a-8bafc7313ec4",
   "metadata": {},
   "outputs": [],
   "source": [
    "data = pd.read_csv('/pfs/data/housing-simplified-1.csv')"
   ]
  },
  {
   "cell_type": "code",
   "execution_count": 10,
   "id": "219def0a-a526-4e4f-876b-5c5471113e73",
   "metadata": {},
   "outputs": [
    {
     "data": {
      "text/html": [
       "<div>\n",
       "<style scoped>\n",
       "    .dataframe tbody tr th:only-of-type {\n",
       "        vertical-align: middle;\n",
       "    }\n",
       "\n",
       "    .dataframe tbody tr th {\n",
       "        vertical-align: top;\n",
       "    }\n",
       "\n",
       "    .dataframe thead th {\n",
       "        text-align: right;\n",
       "    }\n",
       "</style>\n",
       "<table border=\"1\" class=\"dataframe\">\n",
       "  <thead>\n",
       "    <tr style=\"text-align: right;\">\n",
       "      <th></th>\n",
       "      <th>RM</th>\n",
       "      <th>LSTAT</th>\n",
       "      <th>PTRATIO</th>\n",
       "      <th>MEDV</th>\n",
       "    </tr>\n",
       "  </thead>\n",
       "  <tbody>\n",
       "    <tr>\n",
       "      <th>count</th>\n",
       "      <td>100.000000</td>\n",
       "      <td>100.000000</td>\n",
       "      <td>100.00000</td>\n",
       "      <td>100.000000</td>\n",
       "    </tr>\n",
       "    <tr>\n",
       "      <th>mean</th>\n",
       "      <td>6.234410</td>\n",
       "      <td>10.772900</td>\n",
       "      <td>18.69000</td>\n",
       "      <td>468489.000000</td>\n",
       "    </tr>\n",
       "    <tr>\n",
       "      <th>std</th>\n",
       "      <td>0.490838</td>\n",
       "      <td>5.700031</td>\n",
       "      <td>1.69893</td>\n",
       "      <td>124487.368143</td>\n",
       "    </tr>\n",
       "    <tr>\n",
       "      <th>min</th>\n",
       "      <td>5.399000</td>\n",
       "      <td>1.980000</td>\n",
       "      <td>15.10000</td>\n",
       "      <td>266700.000000</td>\n",
       "    </tr>\n",
       "    <tr>\n",
       "      <th>25%</th>\n",
       "      <td>5.926250</td>\n",
       "      <td>6.702500</td>\n",
       "      <td>17.90000</td>\n",
       "      <td>396900.000000</td>\n",
       "    </tr>\n",
       "    <tr>\n",
       "      <th>50%</th>\n",
       "      <td>6.130500</td>\n",
       "      <td>9.465000</td>\n",
       "      <td>18.70000</td>\n",
       "      <td>451500.000000</td>\n",
       "    </tr>\n",
       "    <tr>\n",
       "      <th>75%</th>\n",
       "      <td>6.433000</td>\n",
       "      <td>13.315000</td>\n",
       "      <td>19.70000</td>\n",
       "      <td>518700.000000</td>\n",
       "    </tr>\n",
       "    <tr>\n",
       "      <th>max</th>\n",
       "      <td>8.069000</td>\n",
       "      <td>30.810000</td>\n",
       "      <td>21.10000</td>\n",
       "      <td>919800.000000</td>\n",
       "    </tr>\n",
       "  </tbody>\n",
       "</table>\n",
       "</div>"
      ],
      "text/plain": [
       "               RM       LSTAT    PTRATIO           MEDV\n",
       "count  100.000000  100.000000  100.00000     100.000000\n",
       "mean     6.234410   10.772900   18.69000  468489.000000\n",
       "std      0.490838    5.700031    1.69893  124487.368143\n",
       "min      5.399000    1.980000   15.10000  266700.000000\n",
       "25%      5.926250    6.702500   17.90000  396900.000000\n",
       "50%      6.130500    9.465000   18.70000  451500.000000\n",
       "75%      6.433000   13.315000   19.70000  518700.000000\n",
       "max      8.069000   30.810000   21.10000  919800.000000"
      ]
     },
     "execution_count": 10,
     "metadata": {},
     "output_type": "execute_result"
    }
   ],
   "source": [
    "data.describe()"
   ]
  },
  {
   "cell_type": "code",
   "execution_count": null,
   "id": "36e795ae-d0da-4a7a-8869-e67410bac84a",
   "metadata": {},
   "outputs": [],
   "source": [
    "..."
   ]
  },
  {
   "cell_type": "markdown",
   "id": "c2058952-032e-4012-bb93-04f9e99776ee",
   "metadata": {},
   "source": [
    "**Note**: You can also mount data repositories in `write` mode by adding `+w` (e.g. `pachctl mount -r data@master+w /pfs/`). When this is done, any changes to the data locally will be committed to the data repo once the fuse mount is disconnected locally. \n",
    "\n",
    "However, exercise caution when using the fuse mount with write enabled. There are many edge cases where this can go wrong. For example, if files are undesirably modified locally, they will be committed once the fuse mount is disconnected. "
   ]
  }
 ],
 "metadata": {
  "kernelspec": {
   "display_name": "Python 3",
   "language": "python",
   "name": "python3"
  },
  "language_info": {
   "codemirror_mode": {
    "name": "ipython",
    "version": 3
   },
   "file_extension": ".py",
   "mimetype": "text/x-python",
   "name": "python",
   "nbconvert_exporter": "python",
   "pygments_lexer": "ipython3",
   "version": "3.8.8"
  }
 },
 "nbformat": 4,
 "nbformat_minor": 5
}
